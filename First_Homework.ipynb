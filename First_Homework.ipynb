{
 "cells": [
  {
   "cell_type": "markdown",
   "metadata": {},
   "source": [
    "# Homework I: Histogram of planets number by extrasolar system \n",
    "### 1. read the file from exoplanet.eu"
   ]
  },
  {
   "cell_type": "code",
   "execution_count": 51,
   "metadata": {},
   "outputs": [],
   "source": [
    "import pandas as pd \n",
    "import numpy as np\n",
    "\n",
    "pf = pd.read_csv('data/exoplanet.eu_catalog.csv')#,names=['UID', '# name', 'mass', 'star_sp_type'])\n",
    "#pf"
   ]
  },
  {
   "cell_type": "markdown",
   "metadata": {},
   "source": [
    "### 2. Identify the star name of extrasolar system\n",
    "The data have a column for the name of the star"
   ]
  },
  {
   "cell_type": "code",
   "execution_count": 304,
   "metadata": {},
   "outputs": [],
   "source": [
    "A=pf['star_name']\n",
    "#A"
   ]
  },
  {
   "cell_type": "markdown",
   "metadata": {},
   "source": [
    "### 3. Count the number of planets for each system (for each star)\n",
    "This mean, count the number of times a star appears"
   ]
  },
  {
   "cell_type": "code",
   "execution_count": 108,
   "metadata": {},
   "outputs": [],
   "source": [
    "counts = pf['star_name'].value_counts() #It counts the number of planets from a star \n",
    "#type(counts)\n",
    "#counts"
   ]
  },
  {
   "cell_type": "markdown",
   "metadata": {},
   "source": [
    "Now, I import the Counter from collectios, in order to get the counts of systems with the same number of planets "
   ]
  },
  {
   "cell_type": "code",
   "execution_count": 314,
   "metadata": {},
   "outputs": [
    {
     "data": {
      "text/plain": [
       "[2228, 418, 139, 49, 16, 8, 1, 1]"
      ]
     },
     "execution_count": 314,
     "metadata": {},
     "output_type": "execute_result"
    }
   ],
   "source": [
    "from collections import Counter\n",
    "C = Counter(counts)\n",
    "labels, values = zip(*C.items())\n",
    "labels = sorted(np.array(labels))\n",
    "values = sorted(np.array(values),reverse=True)\n",
    "#labels\n",
    "values"
   ]
  },
  {
   "cell_type": "markdown",
   "metadata": {},
   "source": [
    "### 4. Plot\n",
    "Finally I plot the histogram (I didn't use *seaborn.displot*, I'm just working on that). This is the first approach to the plot. **It's not normalized**"
   ]
  },
  {
   "cell_type": "code",
   "execution_count": 283,
   "metadata": {},
   "outputs": [
    {
     "data": {
      "image/png": "[encoded data removed]",
      "text/plain": [
       "<matplotlib.figure.Figure at 0x7f65b82b55c0>"
      ]
     },
     "metadata": {},
     "output_type": "display_data"
    }
   ],
   "source": [
    "import matplotlib.pyplot as plt \n",
    "\n",
    "fig=plt.figure(1)\n",
    "ax = fig.add_subplot(111)\n",
    "\n",
    "ax.set_xlabel(r\"Number of plantes\",fontsize=20)\n",
    "ax.set_ylabel(r\"Frequency\",fontsize=20)\n",
    "\n",
    "figura1,= ax.step(labels, values,lw=2.0,where='mid')\n",
    "\n",
    "plt.setp(ax.get_xticklabels(), rotation='horizontal', fontsize=15)\n",
    "plt.setp(ax.get_yticklabels(), rotation='horizontal', fontsize=15)\n",
    "\n",
    "#plt.yscale('log')\n",
    "\n",
    "plt.show()"
   ]
  },
  {
   "cell_type": "markdown",
   "metadata": {},
   "source": [
    "Using seaborn.displot"
   ]
  },
  {
   "cell_type": "code",
   "execution_count": 326,
   "metadata": {},
   "outputs": [
    {
     "data": {
      "image/png": "[encoded data removed]",
      "text/plain": [
       "<matplotlib.figure.Figure at 0x7f65abaad978>"
      ]
     },
     "metadata": {},
     "output_type": "display_data"
    }
   ],
   "source": [
    "import seaborn as sns\n",
    "sns.set()\n",
    "ax = sns.distplot(list(C.values()),labels)"
   ]
  },
  {
   "cell_type": "code",
   "execution_count": null,
   "metadata": {},
   "outputs": [],
   "source": []
  }
 ],
 "metadata": {
  "kernelspec": {
   "display_name": "Python 3",
   "language": "python",
   "name": "python3"
  },
  "language_info": {
   "codemirror_mode": {
    "name": "ipython",
    "version": 3
   },
   "file_extension": ".py",
   "mimetype": "text/x-python",
   "name": "python",
   "nbconvert_exporter": "python",
   "pygments_lexer": "ipython3",
   "version": "3.6.4"
  }
 },
 "nbformat": 4,
 "nbformat_minor": 2
}
